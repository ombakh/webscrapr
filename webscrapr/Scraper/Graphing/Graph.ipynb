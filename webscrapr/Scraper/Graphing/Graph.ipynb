{
 "cells": [
  {
   "cell_type": "code",
   "id": "initial_id",
   "metadata": {
    "collapsed": true,
    "ExecuteTime": {
     "end_time": "2025-03-05T01:15:19.906997Z",
     "start_time": "2025-03-05T01:15:19.904080Z"
    }
   },
   "source": [
    "import matplotlib.pyplot as plt\n",
    "import pandas as pd ###For txt file importing\n",
    "import os"
   ],
   "outputs": [],
   "execution_count": 6
  },
  {
   "metadata": {
    "ExecuteTime": {
     "end_time": "2025-03-05T01:17:00.094137Z",
     "start_time": "2025-03-05T01:17:00.089403Z"
    }
   },
   "cell_type": "code",
   "source": [
    "home_directory = os.path.expanduser('~')\n",
    "file_path = os.path.join(home_directory, 'PycharmProjects/webscrapr/webscrapr/Scraper/csv/TESTFILE.txt')\n",
    "df = pd.read_csv(file_path)"
   ],
   "id": "93bf4b630cf713b0",
   "outputs": [],
   "execution_count": 12
  },
  {
   "metadata": {
    "ExecuteTime": {
     "end_time": "2025-03-05T01:16:57.955607Z",
     "start_time": "2025-03-05T01:16:57.953992Z"
    }
   },
   "cell_type": "code",
   "source": "",
   "id": "5279d4c9cc64b488",
   "outputs": [],
   "execution_count": 11
  },
  {
   "metadata": {},
   "cell_type": "code",
   "outputs": [],
   "execution_count": null,
   "source": "",
   "id": "3d223dab0a99423"
  }
 ],
 "metadata": {
  "kernelspec": {
   "display_name": "Python 3",
   "language": "python",
   "name": "python3"
  },
  "language_info": {
   "codemirror_mode": {
    "name": "ipython",
    "version": 2
   },
   "file_extension": ".py",
   "mimetype": "text/x-python",
   "name": "python",
   "nbconvert_exporter": "python",
   "pygments_lexer": "ipython2",
   "version": "2.7.6"
  }
 },
 "nbformat": 4,
 "nbformat_minor": 5
}
